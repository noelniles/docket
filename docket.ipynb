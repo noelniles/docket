{
 "metadata": {
  "name": ""
 },
 "nbformat": 3,
 "nbformat_minor": 0,
 "worksheets": [
  {
   "cells": [
    {
     "cell_type": "code",
     "collapsed": false,
     "input": [
      "import os, sys\n",
      "import xml.etree.ElementTree as ET\n",
      "\n",
      "\n",
      "try:\n",
      "    approot = os.path.abspath(__file__)\n",
      "except NameError:\n",
      "    approot = os.path.dirname(sys.argv[0])\n",
      "    \n",
      "data_path = 'law_data/InnocentiveYear2005DCTExtract'\n",
      "xml_path = 'DCTInnoExtY20050420DCTInnoExtY20050420_N_DFEDDISTCV12_2015042064336.nxo.xml'\n",
      "xml_file = os.path.join(approot, data_path, xml_path)\n",
      "tree = ET.parse(xml_file)\n",
      "root = tree.getroot()\n",
      "\n",
      "doc = root[1]\n",
      "\n",
      "for x in doc.iter('n-document'):\n",
      "    print(x.text)\n",
      "\n",
      "#for child in root[0]:\n",
      "#    print(child.tag)\n",
      "    "
     ],
     "language": "python",
     "metadata": {},
     "outputs": [
      {
       "output_type": "stream",
       "stream": "stdout",
       "text": [
        "None\n"
       ]
      }
     ],
     "prompt_number": 28
    },
    {
     "cell_type": "code",
     "collapsed": false,
     "input": [],
     "language": "python",
     "metadata": {},
     "outputs": []
    }
   ],
   "metadata": {}
  }
 ]
}